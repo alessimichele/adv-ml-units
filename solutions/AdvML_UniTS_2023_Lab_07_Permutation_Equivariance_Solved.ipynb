{
 "cells": [
  {
   "attachments": {},
   "cell_type": "markdown",
   "metadata": {
    "collapsed": false
   },
   "source": [
    "# [Solved] Lab 7: **Geometric Deep Learning** and _permutation equivariance_\n",
    "\n",
    "Advanced Topics in Machine Learning -- Spring 2023, UniTS\n",
    "\n",
    "<a target=\"_blank\" href=\"https://colab.research.google.com/github/ganselmif/adv-ml-units/blob/main/solutions/AdvML_UniTS_2023_Lab_07_Permutation_Equivariance_Solved.ipynb\"><img src=\"https://colab.research.google.com/assets/colab-badge.svg\" alt=\"Open in Colab\"/></a>\n"
   ]
  },
  {
   "attachments": {},
   "cell_type": "markdown",
   "metadata": {
    "collapsed": false
   },
   "source": [
    "#### Geometric Deep Learning\n",
    "\n",
    "The nowadays popular and growing subfield of _Geometric Deep Learning_ is concerned with the study of deep learning models explicitly designed to learn representations that are invariant/equivariant to certain transformations. Such goal is very often achieved thanks to a _deeper_ understanding of the mathematical properties of data, representations, and how a given model is able to capture them.\n"
   ]
  },
  {
   "attachments": {},
   "cell_type": "markdown",
   "metadata": {
    "collapsed": false
   },
   "source": [
    "#### _Deep Sets_ and _permutation equivariance_\n",
    "\n",
    "In this lab, we will focus on a very simple mathematical construction, introduced in the [_Deep Sets_ paper (2017)](https://arxiv.org/abs/1703.06114), able to exhibit in theory _permutation equivariance_ with respect to input data, by design. Reading the paper is strongly recommended before starting this lab.\n",
    "\n",
    "Recall the _permutation equivariance_ property, as stated in the paper:\n",
    "\n",
    "![](./img/perm_equi.png)\n",
    "\n",
    "with $f$ being the model, $x$ a set of input data, and $\\pi$ a permutation of the indices.\n",
    "\n",
    "1. Implement such function (you can use _plain_ `NumPy` !), as described in the following snippet from the paper:\n",
    "   ![](./img/perm_equi_th.png)\n",
    "\n",
    "2. Check that the function is indeed permutation equivariant, applying it on synthetic data (you can generate them yourself), as we did in the previous lab(s) with images.\n"
   ]
  },
  {
   "cell_type": "code",
   "execution_count": 1,
   "metadata": {
    "collapsed": false
   },
   "outputs": [],
   "source": [
    "import functools\n",
    "import numpy as np"
   ]
  },
  {
   "cell_type": "code",
   "execution_count": 2,
   "metadata": {
    "collapsed": false
   },
   "outputs": [],
   "source": [
    "def theta(_xshape, _lambda, _gamma):\n",
    "    return _lambda * np.eye(_xshape) + _gamma * np.ones((_xshape, _xshape))\n",
    "\n",
    "\n",
    "def mish(_x):\n",
    "    return _x * np.tanh(np.log(1 + np.exp(_x)))\n",
    "\n",
    "\n",
    "def f(_x, _lambda=1, _gamma=1):\n",
    "    out = np.matmul(_x, theta(_x.shape[0], _lambda, _gamma))\n",
    "    return mish(out)  # Any nonlinearity! :)"
   ]
  },
  {
   "cell_type": "code",
   "execution_count": 3,
   "metadata": {
    "collapsed": false
   },
   "outputs": [],
   "source": [
    "# Generate some data\n",
    "xsize = 200\n",
    "nperms = 200\n",
    "\n",
    "xlist = [\n",
    "    np.random.rand(xsize),\n",
    "]\n",
    "for _ in range(nperms - 1):\n",
    "    xlist.append(np.random.permutation(xlist[0]))\n",
    "\n",
    "x = np.stack(xlist)"
   ]
  },
  {
   "cell_type": "code",
   "execution_count": 4,
   "metadata": {
    "collapsed": false
   },
   "outputs": [],
   "source": [
    "# Apply function\n",
    "newf = functools.partial(f, _lambda=0.25, _gamma=0.4)\n",
    "y = np.apply_along_axis(newf, 1, x)"
   ]
  },
  {
   "cell_type": "code",
   "execution_count": 5,
   "metadata": {
    "collapsed": false
   },
   "outputs": [
    {
     "name": "stdout",
     "output_type": "stream",
     "text": [
      "Success!\n"
     ]
    }
   ],
   "source": [
    "ysorted = np.sort(y, axis=1)\n",
    "if np.isclose(ysorted[0], ysorted).all():\n",
    "    print(\"Success!\")"
   ]
  }
 ],
 "metadata": {
  "kernelspec": {
   "display_name": "Python 3",
   "language": "python",
   "name": "python3"
  },
  "language_info": {
   "codemirror_mode": {
    "name": "ipython",
    "version": 3
   },
   "file_extension": ".py",
   "mimetype": "text/x-python",
   "name": "python",
   "nbconvert_exporter": "python",
   "pygments_lexer": "ipython3",
   "version": "3.11.1"
  }
 },
 "nbformat": 4,
 "nbformat_minor": 0
}
