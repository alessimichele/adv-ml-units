{
 "cells": [
  {
   "attachments": {},
   "cell_type": "markdown",
   "metadata": {},
   "source": [
    "# [Solved] Lab 8: **Implicit bias** of gradient descent: the case of _linear regression_\n",
    "\n",
    "Advanced Topics in Machine Learning -- Spring 2023, UniTS\n",
    "\n",
    "<a target=\"_blank\" href=\"https://colab.research.google.com/github/ganselmif/adv-ml-units/blob/main/solutions/AdvML_UniTS_2023_Lab_08_Implicit_Bias_Solved.ipynb\"><img src=\"https://colab.research.google.com/assets/colab-badge.svg\" alt=\"Open in Colab\"/></a>\n"
   ]
  },
  {
   "attachments": {},
   "cell_type": "markdown",
   "metadata": {},
   "source": [
    "#### Overview of the _Lab_\n",
    "\n",
    "In this lab, we will study the _implicit bias_ induced by _Gradient Descent_ optimization in the simple case of _linear regression_, fitted on a _toy_ dataset. In particular, we will show that _GD_-optimized weights converge to the **least norm** solution of the _linear regression_ problem.\n",
    "\n",
    "An analysis of implicit bias induced by _Stochastic Gradient Descent_ in _full-width linear fully-connected_ and _full-width linear convolutional_ neural networks (which are much more complex and expressive models!) is provided in [this paper](https://arxiv.org/abs/1806.00468).\n"
   ]
  },
  {
   "attachments": {},
   "cell_type": "markdown",
   "metadata": {
    "collapsed": false
   },
   "source": [
    "#### Linear regression\n",
    "\n",
    "In the case of **linear regression**, fitted by means of _least squares_, we optimize the following loss function:\n",
    "\n",
    "$$\n",
    "L=\\|y-Xw\\|_{2}^{2}\n",
    "$$.\n",
    "\n",
    "If we choose the *GD* optimization algorithm, we perform weight updates proportional to the gradient of the loss function:\n",
    "$$\n",
    "\n",
    "\\nabla\\_{w} L = -X(y-Xw)\n",
    "\n",
    "$$\n",
    ".\n",
    "\n",
    "Additionally, notice that the **least norm** solution of the *linear regression* problem is given by:\n",
    "$$\n",
    "\n",
    "w^{\\*}=(X^{T}X)^{-1}X^{T}y\n",
    "\n",
    "$$\n",
    ".\n",
    "$$\n"
   ]
  },
  {
   "cell_type": "code",
   "execution_count": 1,
   "metadata": {
    "collapsed": false
   },
   "outputs": [],
   "source": [
    "import numpy as np\n",
    "import matplotlib.pyplot as plt"
   ]
  },
  {
   "attachments": {},
   "cell_type": "markdown",
   "metadata": {
    "collapsed": false
   },
   "source": [
    "#### To-do:\n",
    "\n",
    "The following _toy_ dataset is provided:\n"
   ]
  },
  {
   "cell_type": "code",
   "execution_count": 2,
   "metadata": {
    "collapsed": false
   },
   "outputs": [],
   "source": [
    "m, n = 1000, 10\n",
    "X = np.random.normal(0, 1, (m, n))\n",
    "b = X.dot(np.random.normal(0, 1, n))"
   ]
  },
  {
   "attachments": {},
   "cell_type": "markdown",
   "metadata": {
    "collapsed": false
   },
   "source": [
    "1. Compute the _least norm_ solution of the linear regression problem;\n",
    "2. Write a function that computes the gradient of the loss function, as required by _GD_ optimization;\n",
    "3. Perform _GD_ optimization of the linear regression problem iteratively, storing the weights at each iteration;\n",
    "4. Plot the evolution of the weights during _GD_ optimization and comment.\n"
   ]
  },
  {
   "cell_type": "code",
   "execution_count": 4,
   "metadata": {
    "collapsed": false
   },
   "outputs": [],
   "source": [
    "def least_norm_reg(_x, _b, _eps):\n",
    "    # The regularizer `eps` allows to make the matrix invertible!\n",
    "    return np.linalg.inv(_x.T.dot(_x) + _eps * np.eye(n)).dot(_x.T).dot(_b)"
   ]
  },
  {
   "cell_type": "code",
   "execution_count": 5,
   "metadata": {
    "collapsed": false
   },
   "outputs": [],
   "source": [
    "def least_squares_reg_gradient(_x, _b, _w, _m):\n",
    "    return _x.T.dot(_x.dot(_w) - _b) / _m"
   ]
  },
  {
   "cell_type": "code",
   "execution_count": 6,
   "metadata": {
    "collapsed": false
   },
   "outputs": [],
   "source": [
    "def run_gd(steps, init_w, grad_fx):\n",
    "    ws = [init_w]\n",
    "    for step in steps:\n",
    "        ws.append(ws[-1] - step * grad_fx(ws[-1]))\n",
    "    return ws"
   ]
  },
  {
   "cell_type": "code",
   "execution_count": 7,
   "metadata": {
    "collapsed": false
   },
   "outputs": [
    {
     "data": {
      "image/png": "[encoded data removed]",
      "text/plain": [
       "<Figure size 640x480 with 1 Axes>"
      ]
     },
     "metadata": {},
     "output_type": "display_data"
    }
   ],
   "source": [
    "# Least norm solution\n",
    "w_opt = least_norm_reg(X, b, 1e-6)\n",
    "\n",
    "# Initialize weights to 0\n",
    "w0 = np.zeros(n)\n",
    "\n",
    "# Run GD for 100 steps\n",
    "grad_w = lambda _w: least_squares_reg_gradient(X, b, _w, m)\n",
    "wslist = run_gd([0.1] * 50, w0, grad_w)\n",
    "\n",
    "# Plot\n",
    "_ = plt.plot(\n",
    "    range(len(wslist)),\n",
    "    [np.linalg.norm(w_opt - w) ** 2 for w in wslist],\n",
    "    label=\"$|\\!|w_{\\mathrm{opt}}-w_{t}|\\!|^2$\",\n",
    ")\n",
    "_ = plt.legend()"
   ]
  },
  {
   "cell_type": "code",
   "execution_count": null,
   "metadata": {},
   "outputs": [],
   "source": []
  }
 ],
 "metadata": {
  "colab": {
   "authorship_tag": "ABX9TyPkibvpTEMRILBn2/x8IuJj",
   "provenance": []
  },
  "kernelspec": {
   "display_name": "Python 3 (ipykernel)",
   "language": "python",
   "name": "python3"
  },
  "language_info": {
   "codemirror_mode": {
    "name": "ipython",
    "version": 3
   },
   "file_extension": ".py",
   "mimetype": "text/x-python",
   "name": "python",
   "nbconvert_exporter": "python",
   "pygments_lexer": "ipython3",
   "version": "3.11.1"
  }
 },
 "nbformat": 4,
 "nbformat_minor": 1
}
