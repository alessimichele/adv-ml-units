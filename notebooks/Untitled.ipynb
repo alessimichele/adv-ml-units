{
 "cells": [
  {
   "cell_type": "code",
   "execution_count": 1,
   "id": "66afb164-4949-44c6-aa0b-1139b0163d0f",
   "metadata": {},
   "outputs": [
    {
     "data": {
      "text/plain": [
       "(2,)"
      ]
     },
     "execution_count": 1,
     "metadata": {},
     "output_type": "execute_result"
    }
   ],
   "source": [
    "import numpy as np\n",
    "a = np.array(([1,2]))\n",
    "a.shape"
   ]
  },
  {
   "cell_type": "code",
   "execution_count": 2,
   "id": "32756b2f-b030-453f-9c4c-028b2ab8b5a2",
   "metadata": {},
   "outputs": [],
   "source": [
    "import itertools\n",
    "\n",
    "a = np.array(['a','b','c'])\n",
    "b = np.array(['d','e','f']) \n",
    "\n",
    "prod = itertools.product(a,b)"
   ]
  },
  {
   "cell_type": "code",
   "execution_count": 3,
   "id": "b989417b-7c18-40b7-bd67-42d3a04fcf97",
   "metadata": {},
   "outputs": [],
   "source": [
    "def nu_quadratic_feature_map(x):\n",
    "  \n",
    "    # find the dimension of x\n",
    "    d = np.shape(x)[0]\n",
    "    \n",
    "    # define an empty array of size d^2\n",
    "    phi_x = np.empty(d**2)\n",
    "    j = 0\n",
    "    for i in itertools.product(x,x):\n",
    "        phi_x[j] = i[0]*i[1]\n",
    "        j = j+1\n",
    "    return phi_x"
   ]
  },
  {
   "cell_type": "code",
   "execution_count": 4,
   "id": "fafa28f9-3a1a-41cb-8bb6-b6566a482e32",
   "metadata": {},
   "outputs": [
    {
     "data": {
      "text/plain": [
       "array([0., 0., 0., 0., 1., 2., 0., 2., 4.])"
      ]
     },
     "execution_count": 4,
     "metadata": {},
     "output_type": "execute_result"
    }
   ],
   "source": [
    "nu_quadratic_feature_map([0,1,2])"
   ]
  },
  {
   "cell_type": "code",
   "execution_count": 5,
   "id": "65fd13dc-9bfd-4015-97cd-e32b5b3318a9",
   "metadata": {},
   "outputs": [
    {
     "data": {
      "text/plain": [
       "24"
      ]
     },
     "execution_count": 5,
     "metadata": {},
     "output_type": "execute_result"
    }
   ],
   "source": [
    "np.math.factorial(4)"
   ]
  },
  {
   "cell_type": "code",
   "execution_count": null,
   "id": "90d740f5-1309-4801-a58a-c2eb578ea212",
   "metadata": {},
   "outputs": [],
   "source": []
  }
 ],
 "metadata": {
  "kernelspec": {
   "display_name": "Python 3 (ipykernel)",
   "language": "python",
   "name": "python3"
  },
  "language_info": {
   "codemirror_mode": {
    "name": "ipython",
    "version": 3
   },
   "file_extension": ".py",
   "mimetype": "text/x-python",
   "name": "python",
   "nbconvert_exporter": "python",
   "pygments_lexer": "ipython3",
   "version": "3.11.1"
  }
 },
 "nbformat": 4,
 "nbformat_minor": 5
}
